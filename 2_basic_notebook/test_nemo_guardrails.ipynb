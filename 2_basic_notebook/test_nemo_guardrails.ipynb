{
 "cells": [
  {
   "cell_type": "markdown",
   "metadata": {},
   "source": [
    "# Test Nemo Guardrails"
   ]
  },
  {
   "cell_type": "code",
   "execution_count": 2,
   "metadata": {},
   "outputs": [],
   "source": [
    "# Configuration of colang_content\n",
    "colang_content = \"\"\"\n",
    "define user express greeting\n",
    "    \"hello\"\n",
    "    \"hi\"\n",
    "    \"halo\"\n",
    "    \"apakabar\"\n",
    "\n",
    "define bot express greeting\n",
    "    \"Hello, I am an analytics assistant of hospital X. I can help you with data analytics related questions.\"\n",
    "    \"Halo, Saya adalah asisten analitik dari rumah sakit X. Saya dapat membantu Anda dengan pertanyaan terkait analitik data.\"\n",
    "\n",
    "define bot offer help\n",
    "    \"How can I help you?\"\n",
    "    \"Adakah yang bisa saya bantu?\"\n",
    "    \"Is there anything related to data analytics I can help you with?\"\n",
    "    \"Apakah ada pertanyaan yang berhubungan dengan analitik data yang bisa saya bantu?\"\n",
    "\n",
    "define flow greeting\n",
    "    user express greeting\n",
    "    bot express greeting\n",
    "    bot offer help\n",
    "\n",
    "# define limits\n",
    "define user ask politics\n",
    "    \"what do you think about the government\"\n",
    "    \"what do you think about the president\"\n",
    "    \"siapa presiden indonesia\"\n",
    "    \"bagaimana kinerja pemerintah\"\n",
    "    \"who will win the election\"\n",
    "    \"siapa gubernur DKI?\"\n",
    "\n",
    "define bot answer politics\n",
    "    \"I'm an analytics assistant, I can't talk about politics\"\n",
    "    \"Sebagai asisten analitik, saya tidak bisa berbicara tentang politik\"\n",
    "    \"I'm sorry, I cannot answer questions about politics\"\n",
    "    \"Maaf, saya tidak bisa menjawab pertanyaan tentang politik\"\n",
    "\n",
    "define flow politics\n",
    "    user ask politics\n",
    "    bot answer politics\n",
    "    bot offer help\n",
    "\"\"\"\n",
    "\n",
    "config_content = \"\"\"\n",
    "instructions:\n",
    "- type: general\n",
    "  content: /\n",
    "    Below is a conversation between a analytics assistant of Hospital and a user.\n",
    "\n",
    "models:\n",
    "- type: main\n",
    "  engine: vertexai\n",
    "  model: text-bison\n",
    "  parameters:\n",
    "    temperature: 0\n",
    "    tokens_to_generate: 2048\n",
    "\"\"\""
   ]
  },
  {
   "cell_type": "code",
   "execution_count": 3,
   "metadata": {},
   "outputs": [],
   "source": [
    "from nemoguardrails import LLMRails, RailsConfig"
   ]
  },
  {
   "cell_type": "code",
   "execution_count": 4,
   "metadata": {},
   "outputs": [
    {
     "name": "stderr",
     "output_type": "stream",
     "text": [
      "c:\\Users\\BenedictusAryo\\Documents\\llm_guardrails_nemo\\venv\\lib\\site-packages\\tqdm\\auto.py:21: TqdmWarning: IProgress not found. Please update jupyter and ipywidgets. See https://ipywidgets.readthedocs.io/en/stable/user_install.html\n",
      "  from .autonotebook import tqdm as notebook_tqdm\n"
     ]
    }
   ],
   "source": [
    "config = RailsConfig.from_content(\n",
    "    colang_content=colang_content, yaml_content=config_content\n",
    ")\n",
    "\n",
    "rails = LLMRails(config)"
   ]
  },
  {
   "cell_type": "code",
   "execution_count": 5,
   "metadata": {},
   "outputs": [
    {
     "data": {
      "text/plain": [
       "'Hello, I am an analytics assistant of hospital X. I can help you with data analytics related questions.\\nHow can I help you?'"
      ]
     },
     "execution_count": 5,
     "metadata": {},
     "output_type": "execute_result"
    }
   ],
   "source": [
    "await rails.generate_async(prompt=\"selamat pagi\")"
   ]
  },
  {
   "cell_type": "code",
   "execution_count": 10,
   "metadata": {},
   "outputs": [
    {
     "data": {
      "text/plain": [
       "\"I'm sorry, I cannot answer questions about politics\\nIs there anything related to data analytics I can help you with?\""
      ]
     },
     "execution_count": 10,
     "metadata": {},
     "output_type": "execute_result"
    }
   ],
   "source": [
    "await rails.generate_async(prompt=\"siapa pemenang pemilu presiden 2019?\")"
   ]
  },
  {
   "cell_type": "code",
   "execution_count": 11,
   "metadata": {},
   "outputs": [
    {
     "data": {
      "text/plain": [
       "'Sebagai asisten analitik, saya tidak bisa berbicara tentang politik\\nAdakah yang bisa saya bantu?'"
      ]
     },
     "execution_count": 11,
     "metadata": {},
     "output_type": "execute_result"
    }
   ],
   "source": [
    "rails.generate(prompt=\"siapa pemenang pemilu presiden 2019?\")"
   ]
  },
  {
   "cell_type": "code",
   "execution_count": null,
   "metadata": {},
   "outputs": [],
   "source": []
  }
 ],
 "metadata": {
  "kernelspec": {
   "display_name": "venv",
   "language": "python",
   "name": "python3"
  },
  "language_info": {
   "codemirror_mode": {
    "name": "ipython",
    "version": 3
   },
   "file_extension": ".py",
   "mimetype": "text/x-python",
   "name": "python",
   "nbconvert_exporter": "python",
   "pygments_lexer": "ipython3",
   "version": "3.10.12"
  }
 },
 "nbformat": 4,
 "nbformat_minor": 2
}
